{
 "cells": [
  {
   "cell_type": "code",
   "execution_count": 11,
   "metadata": {},
   "outputs": [],
   "source": [
    "%matplotlib inline\n",
    "import matplotlib.pyplot as plt\n",
    "\n",
    "import numpy as np\n"
   ]
  },
  {
   "cell_type": "code",
   "execution_count": 39,
   "metadata": {},
   "outputs": [],
   "source": [
    "class DMP():\n",
    "    def __init__(self, a=0.100, b=0.10,z0=0, y0=0, g=1):\n",
    "        self.z = z0\n",
    "        self.y = y0\n",
    "        self.g = g\n",
    "        self.a = a\n",
    "        self.b = b\n",
    "        \n",
    "    def step(self):\n",
    "        z_1 = self.z + self.a*(self.b*(self.g-self.y)-self.z)*0.01\n",
    "        y_1 = self.y + self.z*0.01\n",
    "        \n",
    "        self.z = z_1\n",
    "        self.y = y_1\n",
    "        \n",
    "        return self.z, self.y\n",
    "    \n",
    "\n",
    "dmp = DMP()\n",
    "\n",
    "y_vect = np.zeros(10000)\n",
    "z_vect = np.zeros(10000)\n",
    "\n",
    "for i in range(len(y_vect)):\n",
    "    y_vect[i], z_vect[i] = dmp.step()"
   ]
  },
  {
   "cell_type": "code",
   "execution_count": 40,
   "metadata": {},
   "outputs": [
    {
     "data": {
      "text/plain": [
       "[<matplotlib.lines.Line2D at 0x7fd0b0f839b0>]"
      ]
     },
     "execution_count": 40,
     "metadata": {},
     "output_type": "execute_result"
    },
    {
     "data": {
      "image/png": "[encoded data removed]",
      "text/plain": [
       "<Figure size 432x288 with 1 Axes>"
      ]
     },
     "metadata": {
      "needs_background": "light"
     },
     "output_type": "display_data"
    }
   ],
   "source": [
    "plt.plot(z_vect)\n",
    "plt.plot(y_vect)\n"
   ]
  },
  {
   "cell_type": "markdown",
   "metadata": {},
   "source": [
    "# Relation between DMP and PID control\n",
    "\n",
    "There is an evident relation between PID and DMP. Goal "
   ]
  },
  {
   "cell_type": "code",
   "execution_count": 43,
   "metadata": {},
   "outputs": [
    {
     "data": {
      "text/plain": [
       "233.6953717723175"
      ]
     },
     "execution_count": 43,
     "metadata": {},
     "output_type": "execute_result"
    }
   ],
   "source": [
    "import math \n",
    "\n",
    "math.log(1000000/1000,1.03)\n"
   ]
  },
  {
   "cell_type": "code",
   "execution_count": 44,
   "metadata": {},
   "outputs": [],
   "source": [
    "# Regression to obtain the parameters of a and b\n",
    "# ddy = A(g-y) + b(dy)"
   ]
  },
  {
   "cell_type": "code",
   "execution_count": null,
   "metadata": {},
   "outputs": [],
   "source": []
  }
 ],
 "metadata": {
  "kernelspec": {
   "display_name": "Python 3",
   "language": "python",
   "name": "python3"
  },
  "language_info": {
   "codemirror_mode": {
    "name": "ipython",
    "version": 3
   },
   "file_extension": ".py",
   "mimetype": "text/x-python",
   "name": "python",
   "nbconvert_exporter": "python",
   "pygments_lexer": "ipython3",
   "version": "3.6.7"
  }
 },
 "nbformat": 4,
 "nbformat_minor": 2
}
