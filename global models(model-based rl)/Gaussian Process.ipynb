{
 "cells": [
  {
   "cell_type": "code",
   "execution_count": 1,
   "metadata": {},
   "outputs": [],
   "source": [
    "import numpy as np\n"
   ]
  },
  {
   "cell_type": "code",
   "execution_count": null,
   "metadata": {},
   "outputs": [],
   "source": [
    "# Multivariate Gaussian Theorem to learn"
   ]
  },
  {
   "cell_type": "code",
   "execution_count": 14,
   "metadata": {},
   "outputs": [
    {
     "data": {
      "text/plain": [
       "array([150., 200.,   0.,   0.])"
      ]
     },
     "execution_count": 14,
     "metadata": {},
     "output_type": "execute_result"
    }
   ],
   "source": [
    "f = np.zeros(4)\n",
    "f[0] = 150\n",
    "f[1] = 200\n",
    "f"
   ]
  },
  {
   "cell_type": "code",
   "execution_count": 15,
   "metadata": {},
   "outputs": [],
   "source": [
    "# In Gaussian Process we are going to use the nomenclature of the multivariate gaussian\n",
    "# We want to predict p(f*|f), been f* the output to guess and f the label of the training data\n",
    "# From Multivariate Gaussian Theorem :\n"
   ]
  },
  {
   "cell_type": "markdown",
   "metadata": {},
   "source": [
    "$$p(x_{1}|x_{2}) = \\mathcal{N}(x_{1}|\\mu_{1|2}\\cdot\\Sigma_{1|2})$$\n",
    "$$\\mu_{1|2} = \\mu_{1} + \\mu_{1} + \\Sigma_{12}\\Sigma_{22}^{-1}(x_{2}-\\mu_{2})$$\n",
    "$$\\Sigma_{1|2} = \\Sigma_{11} - \\Sigma_{1|2} - \\Sigma_{12}\\Sigma_{22}^{-1}\\Sigma_{21} = \\Lambda_{11}^{-1}$$"
   ]
  },
  {
   "cell_type": "code",
   "execution_count": 16,
   "metadata": {},
   "outputs": [],
   "source": [
    "#EXAMPLE\n",
    "Xtrain = np.array([-4, -3, -2, -1, 1]).reshape(5,1)\n",
    "ytrain = np.sin(Xtrain)      # Our output labels.\n"
   ]
  },
  {
   "cell_type": "code",
   "execution_count": 23,
   "metadata": {},
   "outputs": [
    {
     "data": {
      "text/plain": [
       "array([[-3.02720998,  0.56448003,  3.63718971,  3.36588394, -3.36588394],\n",
       "       [-2.27040749,  0.42336002,  2.72789228,  2.52441295, -2.52441295],\n",
       "       [-1.51360499,  0.28224002,  1.81859485,  1.68294197, -1.68294197],\n",
       "       [-0.7568025 ,  0.14112001,  0.90929743,  0.84147098, -0.84147098],\n",
       "       [ 0.7568025 , -0.14112001, -0.90929743, -0.84147098,  0.84147098]])"
      ]
     },
     "execution_count": 23,
     "metadata": {},
     "output_type": "execute_result"
    }
   ],
   "source": [
    "np.sum(Xtrain**2,1).reshape(-1,1)\n",
    "\n",
    "np.dot(Xtrain,ytrain.T)"
   ]
  },
  {
   "cell_type": "code",
   "execution_count": 19,
   "metadata": {},
   "outputs": [],
   "source": [
    "# 50 Test data\n",
    "n = 50\n",
    "Xtest = np.linspace(-5, 5, n).reshape(-1,1)\n"
   ]
  },
  {
   "cell_type": "code",
   "execution_count": 20,
   "metadata": {},
   "outputs": [],
   "source": [
    "# A kernel function (aka Gaussian) measuring the similarity between a and b. 1 means the same.\n",
    "def kernel(a, b, param):\n",
    "    sqdist = np.sum(a**2,1).reshape(-1,1) + np.sum(b**2,1) - 2*np.dot(a, b.T) # Matrix version of (A-B)^2\n",
    "    return np.exp(-.5 * (1/param) * sqdist)\n"
   ]
  },
  {
   "cell_type": "markdown",
   "metadata": {},
   "source": [
    "$$K = e^{-\\frac{1}{2}(\\frac{(A-B)^2}{param})}$$"
   ]
  },
  {
   "cell_type": "code",
   "execution_count": 25,
   "metadata": {},
   "outputs": [],
   "source": [
    "param = 1\n",
    "\n",
    "K = kernel(Xtrain, Xtrain, param)                        # Shape (5, 5)\n",
    "K_s = kernel(Xtrain, Xtest, param)                       # Shape (5, 50)\n",
    "K_ss = kernel(Xtest, Xtest, param)   "
   ]
  },
  {
   "cell_type": "code",
   "execution_count": 27,
   "metadata": {},
   "outputs": [
    {
     "data": {
      "text/plain": [
       "array([[1.00000000e+00, 6.06530660e-01, 1.35335283e-01, 1.11089965e-02,\n",
       "        3.72665317e-06],\n",
       "       [6.06530660e-01, 1.00000000e+00, 6.06530660e-01, 1.35335283e-01,\n",
       "        3.35462628e-04],\n",
       "       [1.35335283e-01, 6.06530660e-01, 1.00000000e+00, 6.06530660e-01,\n",
       "        1.11089965e-02],\n",
       "       [1.11089965e-02, 1.35335283e-01, 6.06530660e-01, 1.00000000e+00,\n",
       "        1.35335283e-01],\n",
       "       [3.72665317e-06, 3.35462628e-04, 1.11089965e-02, 1.35335283e-01,\n",
       "        1.00000000e+00]])"
      ]
     },
     "execution_count": 27,
     "metadata": {},
     "output_type": "execute_result"
    }
   ],
   "source": [
    "K\n",
    "# K is Kernel(A,A) = diag(I) + crosscorrelated terms"
   ]
  },
  {
   "cell_type": "code",
   "execution_count": 33,
   "metadata": {},
   "outputs": [],
   "source": [
    "# If a matrix A is Hermitian and positive definite then (Hermitian)A = transpose((conjugated(A))), \n",
    "#then CHOLESKY A=Ltransp(L) exist\n",
    "\n",
    "L = np.linalg.cholesky(K + 0.00005*np.eye(len(Xtrain)))  # Shape (5, 5)"
   ]
  },
  {
   "cell_type": "code",
   "execution_count": 34,
   "metadata": {},
   "outputs": [
    {
     "data": {
      "text/plain": [
       "array([[1.00002500e+00, 0.00000000e+00, 0.00000000e+00, 0.00000000e+00,\n",
       "        0.00000000e+00],\n",
       "       [6.06515497e-01, 7.95103108e-01, 0.00000000e+00, 0.00000000e+00,\n",
       "        0.00000000e+00],\n",
       "       [1.35331900e-01, 6.59599692e-01, 7.39366974e-01, 0.00000000e+00,\n",
       "        0.00000000e+00],\n",
       "       [1.11087188e-02, 1.61737103e-01, 6.74016516e-01, 7.20742285e-01,\n",
       "        0.00000000e+00],\n",
       "       [3.72656001e-06, 4.19068179e-04, 1.46504718e-02, 1.73977309e-01,\n",
       "        9.84665976e-01]])"
      ]
     },
     "execution_count": 34,
     "metadata": {},
     "output_type": "execute_result"
    }
   ],
   "source": [
    "L"
   ]
  },
  {
   "cell_type": "code",
   "execution_count": 35,
   "metadata": {},
   "outputs": [],
   "source": [
    "# Compute the mean at our test points.\n",
    "Lk = np.linalg.solve(L, K_s)                             # Shape (5, 50)\n",
    "mu = np.dot(Lk.T, np.linalg.solve(L, ytrain)).reshape((n,)) # Shape (50, )\n",
    "\n",
    "# This comes from multivariate gaussian theorem : "
   ]
  },
  {
   "cell_type": "markdown",
   "metadata": {},
   "source": [
    "If $\\mu_{*} = K_{s}^{T}K^{-1}y_{train}$, then as $(AB)^{-1} = B^{-1}A^{-1}$ so: $K= LL^{T} \\rightarrow K^{-1} = (LL^{T})^{-1} = (L^{T})^{-1}L^{-1}$ and then : \n",
    "$$\\mu_{*} = K_{s}^{T}(L^{T})^{-1}L^{-1}y_{train}$$\n",
    "\n",
    "And we know that Lk = np.linalg.solve(L,K_s) -> $Lk = L^{-1}K_s$ and as $(AB)^{T} = B^{T}A^{T}$ and $(A^{T})^{-1} = (A^{-1})^{T}$ then $Lk.T = K_s^{T}(L^{T})^{-1}$"
   ]
  },
  {
   "cell_type": "code",
   "execution_count": 36,
   "metadata": {},
   "outputs": [],
   "source": [
    "# Compute the standard deviation.\n",
    "s2 = np.diag(K_ss) - np.sum(Lk**2, axis=0)               # Shape (50, )\n",
    "stdv = np.sqrt(s2)  "
   ]
  },
  {
   "cell_type": "code",
   "execution_count": 38,
   "metadata": {},
   "outputs": [
    {
     "data": {
      "text/plain": [
       "array([1.000025  , 0.79510311, 0.73936697, 0.72074229, 0.98466598])"
      ]
     },
     "execution_count": 38,
     "metadata": {},
     "output_type": "execute_result"
    }
   ],
   "source": [
    "np.diag(L)"
   ]
  },
  {
   "cell_type": "code",
   "execution_count": 39,
   "metadata": {},
   "outputs": [],
   "source": [
    "L = np.linalg.cholesky(K_ss + 1e-6*np.eye(n) - np.dot(Lk.T, Lk))    # Shape (50, 50)\n",
    "f_post = mu.reshape(-1,1) + np.dot(L, np.random.normal(size=(n,5))) # Shape (50, 3)\n"
   ]
  },
  {
   "cell_type": "markdown",
   "metadata": {},
   "source": [
    "Based on Multivariate Gaussian Theorem : $\\Sigma_{*} = K_{ss} - K_{s}^{T}K^{-1}K_{s}$ so, as $Lk = L^{-1}K_{s}$ and $Lk^{T} = K_{s}^{T}(L^{T})^{-1}$ then $Lk^{T}Lk = K_{s}^{T}(L^{T})^{-1}L^{-1}K_{s} = K_{s}^{T}K^{-1}K_{s}$"
   ]
  },
  {
   "cell_type": "code",
   "execution_count": 52,
   "metadata": {},
   "outputs": [
    {
     "data": {
      "text/plain": [
       "[<matplotlib.lines.Line2D at 0x7fb784e35668>]"
      ]
     },
     "execution_count": 52,
     "metadata": {},
     "output_type": "execute_result"
    },
    {
     "data": {
      "image/png": "[encoded data removed]",
      "text/plain": [
       "<Figure size 432x288 with 1 Axes>"
      ]
     },
     "metadata": {
      "needs_background": "light"
     },
     "output_type": "display_data"
    }
   ],
   "source": [
    "from matplotlib.pyplot import plot as plt\n",
    "\n",
    "for i in range(5):\n",
    "    plt(Xtest,f_post[:,i])\n",
    "\n",
    "plt(Xtrain,ytrain,'r*')"
   ]
  },
  {
   "cell_type": "code",
   "execution_count": 49,
   "metadata": {},
   "outputs": [
    {
     "data": {
      "text/plain": [
       "array([ 0.51194541,  0.78649383,  0.94654043,  0.97263837,  0.89065901,\n",
       "        0.74641371,  0.57585059,  0.40400333,  0.22324613,  0.03245608,\n",
       "       -0.18152848, -0.3959713 , -0.59742882, -0.7590826 , -0.86729083,\n",
       "       -0.92746847, -0.95274014, -0.95679598, -0.94082388, -0.89205699,\n",
       "       -0.79419142, -0.62160713, -0.37899937, -0.09002523,  0.21709883,\n",
       "        0.48679154,  0.69538471,  0.82634461,  0.88059529,  0.87214646,\n",
       "        0.81122019,  0.70972212,  0.57714269,  0.42156249,  0.25514285,\n",
       "        0.10534157, -0.0069242 , -0.06314041, -0.05068041,  0.01742315,\n",
       "        0.11039232,  0.19408237,  0.24026746,  0.2253165 ,  0.14747171,\n",
       "        0.01638752, -0.15036513, -0.33790971, -0.53267176, -0.72061892])"
      ]
     },
     "execution_count": 49,
     "metadata": {},
     "output_type": "execute_result"
    }
   ],
   "source": [
    "f_post[:,1]"
   ]
  },
  {
   "cell_type": "code",
   "execution_count": null,
   "metadata": {},
   "outputs": [],
   "source": []
  }
 ],
 "metadata": {
  "kernelspec": {
   "display_name": "Python 3",
   "language": "python",
   "name": "python3"
  },
  "language_info": {
   "codemirror_mode": {
    "name": "ipython",
    "version": 3
   },
   "file_extension": ".py",
   "mimetype": "text/x-python",
   "name": "python",
   "nbconvert_exporter": "python",
   "pygments_lexer": "ipython3",
   "version": "3.6.7"
  }
 },
 "nbformat": 4,
 "nbformat_minor": 2
}
